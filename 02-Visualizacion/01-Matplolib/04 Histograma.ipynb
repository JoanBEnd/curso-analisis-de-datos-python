{
 "cells": [
  {
   "cell_type": "code",
   "execution_count": 21,
   "metadata": {},
   "outputs": [],
   "source": [
    "import matplotlib.pyplot as plt\n",
    "import pandas as pd"
   ]
  },
  {
   "cell_type": "markdown",
   "metadata": {},
   "source": [
    "### Histograma: \n",
    "\n",
    "Un histograma nos permite visualizar la distribución de una variable numérica. Puede ser un gráfico de barras o un gráfico de líneas.  \n",
    "En un histograma, los datos se dividen en contenedores o \"bins\". La altura de cada barra representa la frecuencia de los datos en cada contenedor.  \n",
    "\n",
    "En este ejemplo utilizaremos una lista de Edad:\n",
    "\n",
    "### Funciones utilizadas:\n",
    "\n",
    "1. plt.hist():\n",
    "    - Permite graficar el histograma.\n",
    "    - Personalizando el histograma:\n",
    "        - **bins**: Nos permite dividir el histograma en cuantas barras queremos graficar\n",
    "        - **histtype**: es elegir la grafica que queremos mostrar.\n",
    "        - **rwidth**: es el ancho de las barras\n",
    "        - **`color`**: Establecemos el color de la gráfica.  \n",
    "\n",
    "2. **`title()`**: Agregamos un título a la gráfica.\n",
    "\n",
    "3. **`xlabel()`**: Agregamos un título al eje **x**.\n",
    "\n",
    "4. **`ylabel()`**: Agregamos un título al eje **y**.\n",
    "\n",
    "5. **lt.grid()**: Nos sirve para agregar una cuadrícula ligera en el eje Y\n",
    "\n"
   ]
  },
  {
   "cell_type": "code",
   "execution_count": 22,
   "metadata": {},
   "outputs": [
    {
     "data": {
      "image/png": "[encoded data removed]",
      "text/plain": [
       "<Figure size 1000x600 with 1 Axes>"
      ]
     },
     "metadata": {},
     "output_type": "display_data"
    }
   ],
   "source": [
    "\n",
    "\n",
    "edad = [1, 2, 3, 4, 7, 8, 9, 10, 1, 2, 3, 4, 5, 5, 5, 6, 7, 8, 9, 2, 3, 4, 5, 6, 9, 4, 3, 2, 5, 3, 5, 10, 4, 3, 7, 8, 5, 4]\n",
    "\n",
    "# Crear el histograma\n",
    "plt.figure(figsize=(10, 6))  # Tamaño del gráfico\n",
    "plt.hist(edad, bins=4, histtype='bar', rwidth=0.9, color='skyblue', edgecolor='black')\n",
    "plt.title('Distribución de edades', fontsize=14)\n",
    "plt.xlabel('Edades', fontsize=12)\n",
    "plt.ylabel('Frecuencia', fontsize=12)\n",
    "plt.grid(axis='y', alpha=0.75)  # Agregar una cuadrícula ligera en el eje Y\n",
    "plt.show()"
   ]
  },
  {
   "cell_type": "markdown",
   "metadata": {},
   "source": [
    "### Caso:\n",
    "Ahora trabajaremos con un conjunto de datos más grande. En este caso usaremos el archivo csv con el que venimos trabajando y usaremos tambien la columna de edad."
   ]
  },
  {
   "cell_type": "code",
   "execution_count": 23,
   "metadata": {},
   "outputs": [
    {
     "data": {
      "text/html": [
       "<div>\n",
       "<style scoped>\n",
       "    .dataframe tbody tr th:only-of-type {\n",
       "        vertical-align: middle;\n",
       "    }\n",
       "\n",
       "    .dataframe tbody tr th {\n",
       "        vertical-align: top;\n",
       "    }\n",
       "\n",
       "    .dataframe thead th {\n",
       "        text-align: right;\n",
       "    }\n",
       "</style>\n",
       "<table border=\"1\" class=\"dataframe\">\n",
       "  <thead>\n",
       "    <tr style=\"text-align: right;\">\n",
       "      <th></th>\n",
       "      <th>Unnamed: 0</th>\n",
       "      <th>time</th>\n",
       "      <th>carrera</th>\n",
       "      <th>acepta</th>\n",
       "      <th>positivo</th>\n",
       "      <th>negativo</th>\n",
       "      <th>edad</th>\n",
       "      <th>sexo</th>\n",
       "      <th>trabajo</th>\n",
       "    </tr>\n",
       "  </thead>\n",
       "  <tbody>\n",
       "    <tr>\n",
       "      <th>0</th>\n",
       "      <td>0</td>\n",
       "      <td>2020-11-08</td>\n",
       "      <td>Ingeniería de Sistemas</td>\n",
       "      <td>Si</td>\n",
       "      <td>Horario flexible.</td>\n",
       "      <td>Contacto Personal Docente-Estudiantil.</td>\n",
       "      <td>20</td>\n",
       "      <td>Hombre</td>\n",
       "      <td>Eventual</td>\n",
       "    </tr>\n",
       "    <tr>\n",
       "      <th>1</th>\n",
       "      <td>1</td>\n",
       "      <td>2020-11-08</td>\n",
       "      <td>Psicología</td>\n",
       "      <td>Si</td>\n",
       "      <td>Acceso desde cualquier lugar.</td>\n",
       "      <td>Contacto Personal Docente-Estudiantil.</td>\n",
       "      <td>26</td>\n",
       "      <td>Hombre</td>\n",
       "      <td>Eventual</td>\n",
       "    </tr>\n",
       "    <tr>\n",
       "      <th>2</th>\n",
       "      <td>2</td>\n",
       "      <td>2020-11-08</td>\n",
       "      <td>Ingeniería de Sistemas</td>\n",
       "      <td>Si</td>\n",
       "      <td>Horario flexible.</td>\n",
       "      <td>Falta de recursos de calidad(plataformas, doce...</td>\n",
       "      <td>20</td>\n",
       "      <td>Mujer</td>\n",
       "      <td>Sí</td>\n",
       "    </tr>\n",
       "    <tr>\n",
       "      <th>3</th>\n",
       "      <td>3</td>\n",
       "      <td>2020-11-08</td>\n",
       "      <td>Ingeniería de Sistemas</td>\n",
       "      <td>Si</td>\n",
       "      <td>Horario flexible.</td>\n",
       "      <td>Conexión a internet.</td>\n",
       "      <td>18</td>\n",
       "      <td>Mujer</td>\n",
       "      <td>No</td>\n",
       "    </tr>\n",
       "    <tr>\n",
       "      <th>4</th>\n",
       "      <td>4</td>\n",
       "      <td>2020-11-08</td>\n",
       "      <td>Ingeniería de Sistemas</td>\n",
       "      <td>Si</td>\n",
       "      <td>Acceso desde cualquier lugar.</td>\n",
       "      <td>Contacto Personal Docente-Estudiantil.</td>\n",
       "      <td>39</td>\n",
       "      <td>Hombre</td>\n",
       "      <td>Sí</td>\n",
       "    </tr>\n",
       "  </tbody>\n",
       "</table>\n",
       "</div>"
      ],
      "text/plain": [
       "   Unnamed: 0       time                 carrera acepta  \\\n",
       "0           0 2020-11-08  Ingeniería de Sistemas     Si   \n",
       "1           1 2020-11-08              Psicología     Si   \n",
       "2           2 2020-11-08  Ingeniería de Sistemas     Si   \n",
       "3           3 2020-11-08  Ingeniería de Sistemas     Si   \n",
       "4           4 2020-11-08  Ingeniería de Sistemas     Si   \n",
       "\n",
       "                        positivo  \\\n",
       "0              Horario flexible.   \n",
       "1  Acceso desde cualquier lugar.   \n",
       "2              Horario flexible.   \n",
       "3              Horario flexible.   \n",
       "4  Acceso desde cualquier lugar.   \n",
       "\n",
       "                                            negativo  edad    sexo   trabajo  \n",
       "0             Contacto Personal Docente-Estudiantil.    20  Hombre  Eventual  \n",
       "1             Contacto Personal Docente-Estudiantil.    26  Hombre  Eventual  \n",
       "2  Falta de recursos de calidad(plataformas, doce...    20   Mujer        Sí  \n",
       "3                               Conexión a internet.    18   Mujer        No  \n",
       "4             Contacto Personal Docente-Estudiantil.    39  Hombre        Sí  "
      ]
     },
     "execution_count": 23,
     "metadata": {},
     "output_type": "execute_result"
    }
   ],
   "source": [
    "df_modalidad_virtual = pd.read_csv('data/ModalidadVirtual.csv', parse_dates=[\"time\"])\n",
    "df_modalidad_virtual.head()"
   ]
  },
  {
   "cell_type": "code",
   "execution_count": 44,
   "metadata": {},
   "outputs": [
    {
     "data": {
      "text/plain": [
       "<matplotlib.legend.Legend at 0x1c33922b5c0>"
      ]
     },
     "execution_count": 44,
     "metadata": {},
     "output_type": "execute_result"
    },
    {
     "data": {
      "image/png": "[encoded data removed]",
      "text/plain": [
       "<Figure size 1000x600 with 1 Axes>"
      ]
     },
     "metadata": {},
     "output_type": "display_data"
    }
   ],
   "source": [
    "df_Edades = df_modalidad_virtual['edad']\n",
    "\n",
    "# Crear el histograma\n",
    "plt.figure(figsize=(10, 6))  # Tamaño del gráfico\n",
    "plt.hist(df_Edades, bins=4, histtype='bar', rwidth=0.9, color='green', alpha=0.25, edgecolor='green')\n",
    "plt.legend(['Edades'], fontsize=12)"
   ]
  }
 ],
 "metadata": {
  "kernelspec": {
   "display_name": "Python 3",
   "language": "python",
   "name": "python3"
  },
  "language_info": {
   "codemirror_mode": {
    "name": "ipython",
    "version": 3
   },
   "file_extension": ".py",
   "mimetype": "text/x-python",
   "name": "python",
   "nbconvert_exporter": "python",
   "pygments_lexer": "ipython3",
   "version": "3.12.6"
  }
 },
 "nbformat": 4,
 "nbformat_minor": 2
}
