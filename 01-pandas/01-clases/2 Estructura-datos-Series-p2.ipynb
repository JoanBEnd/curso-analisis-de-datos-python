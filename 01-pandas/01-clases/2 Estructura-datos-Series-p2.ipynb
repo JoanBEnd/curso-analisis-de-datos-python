{
 "cells": [
  {
   "cell_type": "markdown",
   "metadata": {},
   "source": [
    "## Funciones Pandas\n"
   ]
  },
  {
   "cell_type": "code",
   "execution_count": 1,
   "metadata": {},
   "outputs": [],
   "source": [
    "import pandas as pd"
   ]
  },
  {
   "cell_type": "code",
   "execution_count": 2,
   "metadata": {},
   "outputs": [
    {
     "data": {
      "text/plain": [
       "0    15\n",
       "1    65\n",
       "2    76\n",
       "3    32\n",
       "4    49\n",
       "5    12\n",
       "dtype: int64"
      ]
     },
     "execution_count": 2,
     "metadata": {},
     "output_type": "execute_result"
    }
   ],
   "source": [
    "numeros_aleatorios = pd.Series([15, 65, 76, 32, 49, 12])\n",
    "numeros_aleatorios"
   ]
  },
  {
   "cell_type": "markdown",
   "metadata": {},
   "source": [
    "Usando la funcion Sum() nos sumara todos los valores de la serie"
   ]
  },
  {
   "cell_type": "code",
   "execution_count": 3,
   "metadata": {},
   "outputs": [
    {
     "data": {
      "text/plain": [
       "np.int64(249)"
      ]
     },
     "execution_count": 3,
     "metadata": {},
     "output_type": "execute_result"
    }
   ],
   "source": [
    "numeros_aleatorios.sum()"
   ]
  },
  {
   "cell_type": "markdown",
   "metadata": {},
   "source": [
    "Usando la funcion mean() nos devuelve el promedio de los valores de la serie"
   ]
  },
  {
   "cell_type": "code",
   "execution_count": 4,
   "metadata": {},
   "outputs": [
    {
     "data": {
      "text/plain": [
       "np.float64(41.5)"
      ]
     },
     "execution_count": 4,
     "metadata": {},
     "output_type": "execute_result"
    }
   ],
   "source": [
    "numeros_aleatorios.mean()"
   ]
  },
  {
   "cell_type": "markdown",
   "metadata": {},
   "source": [
    "Usando la funcion min() nos devuelve el minimo valor de la la serie"
   ]
  },
  {
   "cell_type": "code",
   "execution_count": 5,
   "metadata": {},
   "outputs": [
    {
     "data": {
      "text/plain": [
       "np.int64(12)"
      ]
     },
     "execution_count": 5,
     "metadata": {},
     "output_type": "execute_result"
    }
   ],
   "source": [
    "numeros_aleatorios.min()"
   ]
  },
  {
   "cell_type": "markdown",
   "metadata": {},
   "source": [
    "Usando la funcion max() nos devuelve el maximo valor de la la serie"
   ]
  },
  {
   "cell_type": "code",
   "execution_count": 6,
   "metadata": {},
   "outputs": [
    {
     "data": {
      "text/plain": [
       "np.int64(76)"
      ]
     },
     "execution_count": 6,
     "metadata": {},
     "output_type": "execute_result"
    }
   ],
   "source": [
    "numeros_aleatorios.max()"
   ]
  },
  {
   "cell_type": "markdown",
   "metadata": {},
   "source": [
    "Usando la funcion std() nos devuelve la desviación estandar de la la serie"
   ]
  },
  {
   "cell_type": "code",
   "execution_count": 7,
   "metadata": {},
   "outputs": [
    {
     "data": {
      "text/plain": [
       "np.float64(26.311594402468277)"
      ]
     },
     "execution_count": 7,
     "metadata": {},
     "output_type": "execute_result"
    }
   ],
   "source": [
    "numeros_aleatorios.std()"
   ]
  },
  {
   "cell_type": "markdown",
   "metadata": {},
   "source": [
    "Usando la funcion describe() devuelve un resumen de las funciones principales que usa pandas"
   ]
  },
  {
   "cell_type": "code",
   "execution_count": 8,
   "metadata": {},
   "outputs": [
    {
     "data": {
      "text/plain": [
       "count     6.000000\n",
       "mean     41.500000\n",
       "std      26.311594\n",
       "min      12.000000\n",
       "25%      19.250000\n",
       "50%      40.500000\n",
       "75%      61.000000\n",
       "max      76.000000\n",
       "dtype: float64"
      ]
     },
     "execution_count": 8,
     "metadata": {},
     "output_type": "execute_result"
    }
   ],
   "source": [
    "numeros_aleatorios.describe()"
   ]
  },
  {
   "cell_type": "code",
   "execution_count": 9,
   "metadata": {},
   "outputs": [
    {
     "data": {
      "text/plain": [
       "Biología               19\n",
       "Matemáticas            18\n",
       "Ciencias Sociales      14\n",
       "Razonamiento Verbal    15\n",
       "dtype: int64"
      ]
     },
     "execution_count": 9,
     "metadata": {},
     "output_type": "execute_result"
    }
   ],
   "source": [
    "cursos = pd.Series({\"Biología\": 19, \n",
    "                    \"Matemáticas\": 18, \n",
    "                    \"Ciencias Sociales\": 14, \n",
    "                    \"Razonamiento Verbal\": 15 }\n",
    "                    )\n",
    "cursos"
   ]
  },
  {
   "cell_type": "markdown",
   "metadata": {},
   "source": [
    "Usando una condicional para poder filtrar los cursos que son mayores a una nota en específico podemos hacerlo de la siguiente forma:"
   ]
  },
  {
   "cell_type": "code",
   "execution_count": 10,
   "metadata": {},
   "outputs": [
    {
     "data": {
      "text/plain": [
       "Biología       19\n",
       "Matemáticas    18\n",
       "dtype: int64"
      ]
     },
     "execution_count": 10,
     "metadata": {},
     "output_type": "execute_result"
    }
   ],
   "source": [
    "cursos[cursos > 15]"
   ]
  },
  {
   "cell_type": "markdown",
   "metadata": {},
   "source": [
    "Si quiero darle un orden de acuerdo a los valores que en este caso son las notas, puedo usar la funcion sort_values()"
   ]
  },
  {
   "cell_type": "code",
   "execution_count": 11,
   "metadata": {},
   "outputs": [
    {
     "data": {
      "text/plain": [
       "Ciencias Sociales      14\n",
       "Razonamiento Verbal    15\n",
       "Matemáticas            18\n",
       "Biología               19\n",
       "dtype: int64"
      ]
     },
     "execution_count": 11,
     "metadata": {},
     "output_type": "execute_result"
    }
   ],
   "source": [
    "cursos.sort_values()"
   ]
  },
  {
   "cell_type": "markdown",
   "metadata": {},
   "source": [
    "## **Ordenar DataFrames con `sort_index()`**\n",
    "\n",
    "La función **`sort_index()`** nos permite ordenar un **DataFrame** o **Series** según el índice.\n",
    "\n",
    "### **Uso en el ejercicio**\n",
    "En este caso, el índice representa **los cursos**: *Matemáticas, Biología, etc.*  \n",
    "El orden del índice puede ser **ascendente** o **descendente** dependiendo de cómo lo especifiquemos:\n",
    "\n",
    "- **Ascendente**:  \n",
    "   Si el parámetro `ascending` es `True`, el índice se ordenará **de manera ascendente**.\n",
    "\n",
    "- **Descendente**:  \n",
    "   Si el parámetro `ascending` es `False`, el índice se ordenará **de manera descendente**.\n",
    "\n",
    "---\n",
    "\n",
    "De esta manera, podemos controlar el orden de los índices en nuestro **DataFrame** de forma sencilla.\n"
   ]
  },
  {
   "cell_type": "code",
   "execution_count": 12,
   "metadata": {},
   "outputs": [
    {
     "data": {
      "text/plain": [
       "Biología               19\n",
       "Ciencias Sociales      14\n",
       "Matemáticas            18\n",
       "Razonamiento Verbal    15\n",
       "dtype: int64"
      ]
     },
     "execution_count": 12,
     "metadata": {},
     "output_type": "execute_result"
    }
   ],
   "source": [
    "cursos.sort_index(ascending=True)"
   ]
  },
  {
   "cell_type": "markdown",
   "metadata": {},
   "source": [
    "Creando una Serie con lista de datos"
   ]
  },
  {
   "cell_type": "code",
   "execution_count": 13,
   "metadata": {},
   "outputs": [
    {
     "data": {
      "text/plain": [
       "Kia       Sorento\n",
       "Volvo        XC90\n",
       "Toyota     NISSAN\n",
       "dtype: object"
      ]
     },
     "execution_count": 13,
     "metadata": {},
     "output_type": "execute_result"
    }
   ],
   "source": [
    "modelo_carro = [\"Sorento\", \"XC90\", \"NISSAN\"] #En este caso vienen a ser los valores\n",
    "index_carro = [\"Kia\", \"Volvo\", \"Toyota\"] #En este caso son los indices\n",
    "\n",
    "mi_Serie_Carro = pd.Series(index=index_carro, data=modelo_carro)\n",
    "mi_Serie_Carro"
   ]
  }
 ],
 "metadata": {
  "kernelspec": {
   "display_name": "Python 3",
   "language": "python",
   "name": "python3"
  },
  "language_info": {
   "codemirror_mode": {
    "name": "ipython",
    "version": 3
   },
   "file_extension": ".py",
   "mimetype": "text/x-python",
   "name": "python",
   "nbconvert_exporter": "python",
   "pygments_lexer": "ipython3",
   "version": "3.12.6"
  }
 },
 "nbformat": 4,
 "nbformat_minor": 2
}
