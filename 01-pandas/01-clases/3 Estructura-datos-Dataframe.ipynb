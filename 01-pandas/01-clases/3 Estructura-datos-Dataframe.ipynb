{
 "cells": [
  {
   "cell_type": "markdown",
   "metadata": {},
   "source": [
    "# **DATAFRAME**\n",
    "\n",
    "En esta sección analizaremos el **DataFrame**, una de las estructuras fundamentales de **Pandas**.  \n",
    "El **DataFrame** puede definirse como un conjunto de **Series** organizadas en una estructura **tabular**.  \n",
    "\n",
    "---\n",
    "\n",
    "## **Componentes del DataFrame**\n",
    "\n",
    "1. **Data**:  \n",
    "   Puede ser de distintos tipos:  \n",
    "   - Diccionario  \n",
    "   - Lista  \n",
    "   - Diccionario de listas  \n",
    "   - Arreglo de Numpy  \n",
    "\n",
    "2. **Index**:  \n",
    "   Representa las **filas**.  \n",
    "   - Si no se especifica, **Pandas** asigna un índice automáticamente.  \n",
    "\n",
    "3. **Columnas**:  \n",
    "   Son las **etiquetas de las columnas** (cabeceras).  \n",
    "   - Si no se especifican, **Pandas** asigna nombres automáticos a las columnas.  \n",
    "\n",
    "---\n",
    "\n",
    "Un **DataFrame** permite almacenar, manipular y analizar datos de forma eficiente y flexible.\n"
   ]
  },
  {
   "cell_type": "code",
   "execution_count": 19,
   "metadata": {},
   "outputs": [],
   "source": [
    "import pandas as pd"
   ]
  },
  {
   "cell_type": "markdown",
   "metadata": {},
   "source": [
    "Partiremos creando un DataFrame desde un diccionario"
   ]
  },
  {
   "cell_type": "code",
   "execution_count": 20,
   "metadata": {},
   "outputs": [
    {
     "data": {
      "text/html": [
       "<div>\n",
       "<style scoped>\n",
       "    .dataframe tbody tr th:only-of-type {\n",
       "        vertical-align: middle;\n",
       "    }\n",
       "\n",
       "    .dataframe tbody tr th {\n",
       "        vertical-align: top;\n",
       "    }\n",
       "\n",
       "    .dataframe thead th {\n",
       "        text-align: right;\n",
       "    }\n",
       "</style>\n",
       "<table border=\"1\" class=\"dataframe\">\n",
       "  <thead>\n",
       "    <tr style=\"text-align: right;\">\n",
       "      <th></th>\n",
       "      <th>Nombre</th>\n",
       "      <th>Edad</th>\n",
       "      <th>Correo</th>\n",
       "    </tr>\n",
       "  </thead>\n",
       "  <tbody>\n",
       "    <tr>\n",
       "      <th>0</th>\n",
       "      <td>Joan</td>\n",
       "      <td>28</td>\n",
       "      <td>jop@gmail.com</td>\n",
       "    </tr>\n",
       "    <tr>\n",
       "      <th>1</th>\n",
       "      <td>Mariana</td>\n",
       "      <td>26</td>\n",
       "      <td>mara@gmail.com</td>\n",
       "    </tr>\n",
       "    <tr>\n",
       "      <th>2</th>\n",
       "      <td>Santos</td>\n",
       "      <td>27</td>\n",
       "      <td>sts@gmail.com</td>\n",
       "    </tr>\n",
       "    <tr>\n",
       "      <th>3</th>\n",
       "      <td>Peter</td>\n",
       "      <td>28</td>\n",
       "      <td>pt@gmail.com</td>\n",
       "    </tr>\n",
       "  </tbody>\n",
       "</table>\n",
       "</div>"
      ],
      "text/plain": [
       "    Nombre  Edad          Correo\n",
       "0     Joan    28   jop@gmail.com\n",
       "1  Mariana    26  mara@gmail.com\n",
       "2   Santos    27   sts@gmail.com\n",
       "3    Peter    28    pt@gmail.com"
      ]
     },
     "execution_count": 20,
     "metadata": {},
     "output_type": "execute_result"
    }
   ],
   "source": [
    "mi_diccionario = {\"Nombre\": [\"Joan\", \"Mariana\", \"Santos\", \"Peter\"],\n",
    "                  \"Edad\"  : [28, 26, 27, 28],\n",
    "                  \"Correo\": [\"jop@gmail.com\", \"mara@gmail.com\", \"sts@gmail.com\", \"pt@gmail.com\"]\n",
    "                  }\n",
    "\n",
    "mi_frame = pd.DataFrame(data = mi_diccionario)\n",
    "mi_frame"
   ]
  },
  {
   "cell_type": "markdown",
   "metadata": {},
   "source": [
    "Ahora podemos crear un DataFrame usando Lista"
   ]
  },
  {
   "cell_type": "code",
   "execution_count": 21,
   "metadata": {},
   "outputs": [
    {
     "data": {
      "text/html": [
       "<div>\n",
       "<style scoped>\n",
       "    .dataframe tbody tr th:only-of-type {\n",
       "        vertical-align: middle;\n",
       "    }\n",
       "\n",
       "    .dataframe tbody tr th {\n",
       "        vertical-align: top;\n",
       "    }\n",
       "\n",
       "    .dataframe thead th {\n",
       "        text-align: right;\n",
       "    }\n",
       "</style>\n",
       "<table border=\"1\" class=\"dataframe\">\n",
       "  <thead>\n",
       "    <tr style=\"text-align: right;\">\n",
       "      <th></th>\n",
       "      <th>Nombre</th>\n",
       "      <th>Edad</th>\n",
       "    </tr>\n",
       "  </thead>\n",
       "  <tbody>\n",
       "    <tr>\n",
       "      <th>0</th>\n",
       "      <td>Sergio</td>\n",
       "      <td>32</td>\n",
       "    </tr>\n",
       "    <tr>\n",
       "      <th>1</th>\n",
       "      <td>Magdalena</td>\n",
       "      <td>34</td>\n",
       "    </tr>\n",
       "    <tr>\n",
       "      <th>2</th>\n",
       "      <td>Santiago</td>\n",
       "      <td>30</td>\n",
       "    </tr>\n",
       "    <tr>\n",
       "      <th>3</th>\n",
       "      <td>Luciana</td>\n",
       "      <td>32</td>\n",
       "    </tr>\n",
       "    <tr>\n",
       "      <th>4</th>\n",
       "      <td>Margarita</td>\n",
       "      <td>33</td>\n",
       "    </tr>\n",
       "  </tbody>\n",
       "</table>\n",
       "</div>"
      ],
      "text/plain": [
       "      Nombre  Edad\n",
       "0     Sergio    32\n",
       "1  Magdalena    34\n",
       "2   Santiago    30\n",
       "3    Luciana    32\n",
       "4  Margarita    33"
      ]
     },
     "execution_count": 21,
     "metadata": {},
     "output_type": "execute_result"
    }
   ],
   "source": [
    "mi_lista = [[\"Sergio\", 32],[\"Magdalena\", 34],[\"Santiago\", 30],[\"Luciana\", 32],[\"Margarita\", 33]]\n",
    "columnas = [\"Nombre\", \"Edad\"]\n",
    "\n",
    "mi_frame_personas = pd.DataFrame(data=mi_lista, columns=columnas)\n",
    "mi_frame_personas\n"
   ]
  },
  {
   "cell_type": "markdown",
   "metadata": {},
   "source": [
    "Podemos crear DataFrame y personalizando el index"
   ]
  },
  {
   "cell_type": "code",
   "execution_count": 22,
   "metadata": {},
   "outputs": [
    {
     "data": {
      "text/html": [
       "<div>\n",
       "<style scoped>\n",
       "    .dataframe tbody tr th:only-of-type {\n",
       "        vertical-align: middle;\n",
       "    }\n",
       "\n",
       "    .dataframe tbody tr th {\n",
       "        vertical-align: top;\n",
       "    }\n",
       "\n",
       "    .dataframe thead th {\n",
       "        text-align: right;\n",
       "    }\n",
       "</style>\n",
       "<table border=\"1\" class=\"dataframe\">\n",
       "  <thead>\n",
       "    <tr style=\"text-align: right;\">\n",
       "      <th></th>\n",
       "      <th>Empresas</th>\n",
       "      <th>Trabajadores</th>\n",
       "    </tr>\n",
       "  </thead>\n",
       "  <tbody>\n",
       "    <tr>\n",
       "      <th>a</th>\n",
       "      <td>Google</td>\n",
       "      <td>25000</td>\n",
       "    </tr>\n",
       "    <tr>\n",
       "      <th>b</th>\n",
       "      <td>Microsoft</td>\n",
       "      <td>18000</td>\n",
       "    </tr>\n",
       "    <tr>\n",
       "      <th>c</th>\n",
       "      <td>Amazon</td>\n",
       "      <td>26000</td>\n",
       "    </tr>\n",
       "    <tr>\n",
       "      <th>d</th>\n",
       "      <td>Facebook</td>\n",
       "      <td>19000</td>\n",
       "    </tr>\n",
       "  </tbody>\n",
       "</table>\n",
       "</div>"
      ],
      "text/plain": [
       "    Empresas  Trabajadores\n",
       "a     Google         25000\n",
       "b  Microsoft         18000\n",
       "c     Amazon         26000\n",
       "d   Facebook         19000"
      ]
     },
     "execution_count": 22,
     "metadata": {},
     "output_type": "execute_result"
    }
   ],
   "source": [
    "data = {\"Empresas\": [\"Google\", \"Microsoft\", \"Amazon\", \"Facebook\"],\n",
    "        \"Trabajadores\": [25000, 18000, 26000, 19000]\n",
    "}\n",
    "\n",
    "mi_frame_empresas = pd.DataFrame(data=data, index=[\"a\", \"b\", \"c\", \"d\"])\n",
    "mi_frame_empresas"
   ]
  },
  {
   "cell_type": "markdown",
   "metadata": {},
   "source": [
    "Usando un arreglo de numpy"
   ]
  },
  {
   "cell_type": "code",
   "execution_count": 23,
   "metadata": {},
   "outputs": [
    {
     "data": {
      "text/html": [
       "<div>\n",
       "<style scoped>\n",
       "    .dataframe tbody tr th:only-of-type {\n",
       "        vertical-align: middle;\n",
       "    }\n",
       "\n",
       "    .dataframe tbody tr th {\n",
       "        vertical-align: top;\n",
       "    }\n",
       "\n",
       "    .dataframe thead th {\n",
       "        text-align: right;\n",
       "    }\n",
       "</style>\n",
       "<table border=\"1\" class=\"dataframe\">\n",
       "  <thead>\n",
       "    <tr style=\"text-align: right;\">\n",
       "      <th></th>\n",
       "      <th>A</th>\n",
       "      <th>B</th>\n",
       "      <th>C</th>\n",
       "    </tr>\n",
       "  </thead>\n",
       "  <tbody>\n",
       "    <tr>\n",
       "      <th>0</th>\n",
       "      <td>0.034773</td>\n",
       "      <td>0.903350</td>\n",
       "      <td>0.515143</td>\n",
       "    </tr>\n",
       "    <tr>\n",
       "      <th>1</th>\n",
       "      <td>0.347692</td>\n",
       "      <td>0.230688</td>\n",
       "      <td>0.719961</td>\n",
       "    </tr>\n",
       "    <tr>\n",
       "      <th>2</th>\n",
       "      <td>0.583837</td>\n",
       "      <td>0.667995</td>\n",
       "      <td>0.044454</td>\n",
       "    </tr>\n",
       "    <tr>\n",
       "      <th>3</th>\n",
       "      <td>0.285964</td>\n",
       "      <td>0.510711</td>\n",
       "      <td>0.972263</td>\n",
       "    </tr>\n",
       "  </tbody>\n",
       "</table>\n",
       "</div>"
      ],
      "text/plain": [
       "          A         B         C\n",
       "0  0.034773  0.903350  0.515143\n",
       "1  0.347692  0.230688  0.719961\n",
       "2  0.583837  0.667995  0.044454\n",
       "3  0.285964  0.510711  0.972263"
      ]
     },
     "execution_count": 23,
     "metadata": {},
     "output_type": "execute_result"
    }
   ],
   "source": [
    "import numpy as np\n",
    "\n",
    "#En este caso estamos creando 3 columnas y 4 filas usando la funcion random.rand()\n",
    "data = np.random.rand(4, 3)\n",
    "mi_frame_numpy = pd.DataFrame(data = data, columns=[\"A\", \"B\", \"C\"])\n",
    "mi_frame_numpy"
   ]
  },
  {
   "cell_type": "markdown",
   "metadata": {},
   "source": [
    "## ATRIBUTOS DE UN DATAFRAME\n",
    "\n",
    "---\n",
    "\n",
    "1. **`.dtypes`**     \n",
    "   Nos permite ver el tipo de datos  \n",
    "   ```python\n",
    "   mi_dataframe.dbtypes\n",
    "\n",
    "2. **`.size`**  \n",
    "   Nos permite saber el tamaño.\n",
    "   ```python\n",
    "   mi_dataframe.size\n",
    "\n",
    "3. **`.values`** :  \n",
    "   Nos permite ver los valores  \n",
    "   ```python\n",
    "   mi_dataframe.values\n",
    "\n"
   ]
  },
  {
   "cell_type": "code",
   "execution_count": 25,
   "metadata": {},
   "outputs": [
    {
     "data": {
      "text/plain": [
       "Empresas        object\n",
       "Trabajadores     int64\n",
       "dtype: object"
      ]
     },
     "execution_count": 25,
     "metadata": {},
     "output_type": "execute_result"
    }
   ],
   "source": [
    "mi_frame_empresas.dtypes"
   ]
  },
  {
   "cell_type": "code",
   "execution_count": 26,
   "metadata": {},
   "outputs": [
    {
     "data": {
      "text/plain": [
       "8"
      ]
     },
     "execution_count": 26,
     "metadata": {},
     "output_type": "execute_result"
    }
   ],
   "source": [
    "mi_frame_empresas.size"
   ]
  },
  {
   "cell_type": "code",
   "execution_count": 27,
   "metadata": {},
   "outputs": [
    {
     "data": {
      "text/plain": [
       "array([['Google', 25000],\n",
       "       ['Microsoft', 18000],\n",
       "       ['Amazon', 26000],\n",
       "       ['Facebook', 19000]], dtype=object)"
      ]
     },
     "execution_count": 27,
     "metadata": {},
     "output_type": "execute_result"
    }
   ],
   "source": [
    "mi_frame_empresas.values"
   ]
  },
  {
   "cell_type": "code",
   "execution_count": 47,
   "metadata": {},
   "outputs": [
    {
     "name": "stdout",
     "output_type": "stream",
     "text": [
      "None\n"
     ]
    }
   ],
   "source": [
    "print(mi_frame_empresas.sort_values(by=\"Trabajadores\", inplace=True))"
   ]
  },
  {
   "cell_type": "markdown",
   "metadata": {},
   "source": [
    "## FUNCIONES\n",
    "\n",
    "---\n",
    "\n",
    "1. **`info()`**     \n",
    "   Muestra información del dataframe como las columnas cuantos registros tiene el tipo de datos y la cantidad de memoria usada.  \n",
    "   ```python\n",
    "   mi_dataframe.info()\n",
    "\n",
    "2. **`head()`**  \n",
    "   Esta función de cabecera nos permite ver los primeros 5 registros.  \n",
    "   ```python\n",
    "   mi_dataframe.head()\n",
    "\n",
    "3. **`tail()`** :  \n",
    "   Esta función  nos permite ver los últimos 5 registros.\n",
    "   ```python\n",
    "   mi_dataframe.tail()"
   ]
  },
  {
   "cell_type": "markdown",
   "metadata": {},
   "source": [
    "\n",
    "1. **`info()`**     \n",
    "   Muestra información del dataframe como las columnas cuantos registros tiene el tipo de datos y la cantidad de memoria usada.  \n",
    "   ```python\n",
    "   mi_dataframe.info()\n",
    "\n",
    "2. **`head()`**  \n",
    "   Esta función de cabecera nos permite ver los primeros 5 registros.  \n",
    "   ```python\n",
    "   mi_dataframe.head()\n",
    "\n",
    "3. **`tail()`** :  \n",
    "   Esta función  nos permite ver los últimos 5 registros.\n",
    "   ```python\n",
    "   mi_dataframe.tail()"
   ]
  },
  {
   "cell_type": "code",
   "execution_count": 48,
   "metadata": {},
   "outputs": [
    {
     "name": "stdout",
     "output_type": "stream",
     "text": [
      "<class 'pandas.core.frame.DataFrame'>\n",
      "Index: 4 entries, b to c\n",
      "Data columns (total 2 columns):\n",
      " #   Column        Non-Null Count  Dtype \n",
      "---  ------        --------------  ----- \n",
      " 0   Empresas      4 non-null      object\n",
      " 1   Trabajadores  4 non-null      int64 \n",
      "dtypes: int64(1), object(1)\n",
      "memory usage: 96.0+ bytes\n"
     ]
    }
   ],
   "source": [
    "mi_frame_empresas.info()"
   ]
  },
  {
   "cell_type": "code",
   "execution_count": 49,
   "metadata": {},
   "outputs": [
    {
     "data": {
      "text/html": [
       "<div>\n",
       "<style scoped>\n",
       "    .dataframe tbody tr th:only-of-type {\n",
       "        vertical-align: middle;\n",
       "    }\n",
       "\n",
       "    .dataframe tbody tr th {\n",
       "        vertical-align: top;\n",
       "    }\n",
       "\n",
       "    .dataframe thead th {\n",
       "        text-align: right;\n",
       "    }\n",
       "</style>\n",
       "<table border=\"1\" class=\"dataframe\">\n",
       "  <thead>\n",
       "    <tr style=\"text-align: right;\">\n",
       "      <th></th>\n",
       "      <th>Empresas</th>\n",
       "      <th>Trabajadores</th>\n",
       "    </tr>\n",
       "  </thead>\n",
       "  <tbody>\n",
       "    <tr>\n",
       "      <th>b</th>\n",
       "      <td>Microsoft</td>\n",
       "      <td>18000</td>\n",
       "    </tr>\n",
       "    <tr>\n",
       "      <th>d</th>\n",
       "      <td>Facebook</td>\n",
       "      <td>19000</td>\n",
       "    </tr>\n",
       "    <tr>\n",
       "      <th>a</th>\n",
       "      <td>Google</td>\n",
       "      <td>25000</td>\n",
       "    </tr>\n",
       "    <tr>\n",
       "      <th>c</th>\n",
       "      <td>Amazon</td>\n",
       "      <td>26000</td>\n",
       "    </tr>\n",
       "  </tbody>\n",
       "</table>\n",
       "</div>"
      ],
      "text/plain": [
       "    Empresas  Trabajadores\n",
       "b  Microsoft         18000\n",
       "d   Facebook         19000\n",
       "a     Google         25000\n",
       "c     Amazon         26000"
      ]
     },
     "execution_count": 49,
     "metadata": {},
     "output_type": "execute_result"
    }
   ],
   "source": [
    "mi_frame_empresas.head()"
   ]
  },
  {
   "cell_type": "code",
   "execution_count": 50,
   "metadata": {},
   "outputs": [
    {
     "data": {
      "text/html": [
       "<div>\n",
       "<style scoped>\n",
       "    .dataframe tbody tr th:only-of-type {\n",
       "        vertical-align: middle;\n",
       "    }\n",
       "\n",
       "    .dataframe tbody tr th {\n",
       "        vertical-align: top;\n",
       "    }\n",
       "\n",
       "    .dataframe thead th {\n",
       "        text-align: right;\n",
       "    }\n",
       "</style>\n",
       "<table border=\"1\" class=\"dataframe\">\n",
       "  <thead>\n",
       "    <tr style=\"text-align: right;\">\n",
       "      <th></th>\n",
       "      <th>Empresas</th>\n",
       "      <th>Trabajadores</th>\n",
       "    </tr>\n",
       "  </thead>\n",
       "  <tbody>\n",
       "    <tr>\n",
       "      <th>b</th>\n",
       "      <td>Microsoft</td>\n",
       "      <td>18000</td>\n",
       "    </tr>\n",
       "    <tr>\n",
       "      <th>d</th>\n",
       "      <td>Facebook</td>\n",
       "      <td>19000</td>\n",
       "    </tr>\n",
       "    <tr>\n",
       "      <th>a</th>\n",
       "      <td>Google</td>\n",
       "      <td>25000</td>\n",
       "    </tr>\n",
       "    <tr>\n",
       "      <th>c</th>\n",
       "      <td>Amazon</td>\n",
       "      <td>26000</td>\n",
       "    </tr>\n",
       "  </tbody>\n",
       "</table>\n",
       "</div>"
      ],
      "text/plain": [
       "    Empresas  Trabajadores\n",
       "b  Microsoft         18000\n",
       "d   Facebook         19000\n",
       "a     Google         25000\n",
       "c     Amazon         26000"
      ]
     },
     "execution_count": 50,
     "metadata": {},
     "output_type": "execute_result"
    }
   ],
   "source": [
    "mi_frame_empresas.tail()"
   ]
  }
 ],
 "metadata": {
  "kernelspec": {
   "display_name": "Python 3",
   "language": "python",
   "name": "python3"
  },
  "language_info": {
   "codemirror_mode": {
    "name": "ipython",
    "version": 3
   },
   "file_extension": ".py",
   "mimetype": "text/x-python",
   "name": "python",
   "nbconvert_exporter": "python",
   "pygments_lexer": "ipython3",
   "version": "3.12.6"
  }
 },
 "nbformat": 4,
 "nbformat_minor": 2
}
