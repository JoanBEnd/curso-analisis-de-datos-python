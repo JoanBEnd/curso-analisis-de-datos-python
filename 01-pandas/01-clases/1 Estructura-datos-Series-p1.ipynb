{
 "cells": [
  {
   "cell_type": "markdown",
   "metadata": {},
   "source": [
    "## **Estructuras de datos en Pandas**    \n",
    "Pandas es una librería fundamental para la manipulación y análisis de datos en Python, trabaja principalmente con dos estructuras de datos clave: Series y DataFrames. Estas estructuras son versátiles y permiten trabajar de manera eficiente con datos de diferentes tipos y dimensiones.\n",
    "\n",
    "---\n",
    "Series:  \n",
    "    Una serie es un conjunto de elementos donde almacenamos cualquier tipo de datos. Cada elemento en una Serie está asociado a un índice único, lo que facilita la localización y manipulación de datos.  \n",
    "\n",
    "|  |Apellidos |\n",
    "|--|----------|\n",
    "|0 |Paredes   |\n",
    "|1 | Salazar  |\n",
    "|2 | Truillo  |\n",
    "|3 | Martinez |\n",
    "|4 | Quispe   |\n",
    "\n",
    "---\n",
    "Dataframe:  \n",
    "    El dataframe viene a ser un conjunto de Series y siendo más tecnicos seria un conjunto bidimencional donde tampoco importaria los tipos de datos que almacenemos en ellos\n",
    "\n",
    "\n",
    "|  | Nombres  |  Apellidos   |       Direccion         |\n",
    "|--|----------|--------------|-------------------------|\n",
    "| 0| Lucho    |  Paredes     |   Av st louis 25        |\n",
    "| 1| Carlos   |  Salazarc    |   Av Terranova 15       |\n",
    "| 2| Sofia    |  Truillo     |   Av los liberales 351  |\n",
    "| 3| Laura    |  Martinez    |   Av los sauces 54      |\n",
    "| 4| Martin   |  Quispe      |   Av Luminos  654       |\n",
    "\n",
    "---\n",
    "Haciendo un énfasis en los indices:  \n",
    "    Tanto en las Series como en los DataFrames, el índice ( que es la primera columna numérica) es muy importante , ya que permite acceder y organizar los  datos                      \n",
    "\n",
    " "
   ]
  },
  {
   "cell_type": "markdown",
   "metadata": {},
   "source": [
    "A continuación crearemos nuestras Series en base a los ejemplos vistos en la teoria.\n",
    "Las 2 primeras series que crearemos seran basados en lista."
   ]
  },
  {
   "cell_type": "code",
   "execution_count": 6,
   "metadata": {},
   "outputs": [
    {
     "data": {
      "text/plain": [
       "0     Lucho\n",
       "1    Carlos\n",
       "2     Sofia\n",
       "3     Laura\n",
       "4    Martin\n",
       "dtype: object"
      ]
     },
     "execution_count": 6,
     "metadata": {},
     "output_type": "execute_result"
    }
   ],
   "source": [
    "import pandas as pd\n",
    "\n",
    "nombres =  pd.Series([\"Lucho\", \"Carlos\", \"Sofia\", \"Laura\", \"Martin\"])\n",
    "nombres"
   ]
  },
  {
   "cell_type": "code",
   "execution_count": 7,
   "metadata": {},
   "outputs": [
    {
     "data": {
      "text/plain": [
       "0     Paredes\n",
       "1     Salazar\n",
       "2    Trujillo\n",
       "3    Martinez\n",
       "4      Quispe\n",
       "dtype: object"
      ]
     },
     "execution_count": 7,
     "metadata": {},
     "output_type": "execute_result"
    }
   ],
   "source": [
    "apellidos = pd.Series([\"Paredes\",\"Salazar\",\"Trujillo\",\"Martinez\",\"Quispe\"])\n",
    "apellidos"
   ]
  },
  {
   "cell_type": "markdown",
   "metadata": {},
   "source": [
    "Esta tercera serie que crearemos sera basado en un diccionario, aumentando un poco la complejidad en como crear una serie."
   ]
  },
  {
   "cell_type": "code",
   "execution_count": null,
   "metadata": {},
   "outputs": [
    {
     "data": {
      "text/plain": [
       "Biología               15\n",
       "Matemáticas            18\n",
       "Ciencias Sociales      14\n",
       "Razonamiento Verbal    15\n",
       "dtype: int64"
      ]
     },
     "execution_count": 11,
     "metadata": {},
     "output_type": "execute_result"
    }
   ],
   "source": [
    "cursos = pd.Series({\"Biología\": 15, \n",
    "                    \"Matemáticas\": 18, \n",
    "                    \"Ciencias Sociales\": 14, \n",
    "                    \"Razonamiento Verbal\": 15 }\n",
    "                    )\n",
    "cursos"
   ]
  },
  {
   "cell_type": "markdown",
   "metadata": {},
   "source": [
    "## Propiedades de una Serie en Pandas\n",
    "\n",
    "Una **Serie** en Pandas cuenta con varias propiedades que nos permiten explorar y comprender mejor su contenido. Algunas de las propiedades más útiles son:\n",
    "\n",
    "---\n",
    "\n",
    "1. **`.size`**  \n",
    "   Permite obtener el número total de elementos que contiene la Serie (incluyendo valores nulos si los hay).  \n",
    "   ```python\n",
    "   mi_serie.size\n",
    "\n",
    "2. **`.index`** :  \n",
    "   Nos permite ver una lista definida del dataframe   \n",
    "   ```python\n",
    "   mi_serie.index\n",
    "\n",
    "3. **`.dtype`**     \n",
    "   Nos permite ver el tipo de datos  \n",
    "   ```python\n",
    "   mi_serie.dbtype"
   ]
  },
  {
   "cell_type": "code",
   "execution_count": null,
   "metadata": {},
   "outputs": [
    {
     "name": "stdout",
     "output_type": "stream",
     "text": [
      "5\n",
      "RangeIndex(start=0, stop=5, step=1)\n",
      "int64\n"
     ]
    }
   ],
   "source": [
    "numeros_aleatorios = pd.Series([15, 48, 5, 35, 78])\n",
    "#Size\n",
    "print(numeros_aleatorios.size) #nos devuelve la cantidad de numeros que hay en la lista\n",
    "\n",
    "#index\n",
    "print(numeros_aleatorios.index) #nos devuelve el índice completo indicando el inicio y fin\n",
    "\n",
    "#dtype\n",
    "print(numeros_aleatorios.dtype)# nos devuelve el tipo de ddatos de la lista en este caso int64 ya que todos son números"
   ]
  },
  {
   "cell_type": "markdown",
   "metadata": {},
   "source": [
    "## Acceder de manera Parcial\n",
    "Ahora queremos acceder a los datos de manera parcial, en una posición unica, etc de una Serie, como podemos hacer ello?.\n",
    "\n",
    "Bueno para acceder a los datos se utilza indexing y slicing:"
   ]
  },
  {
   "cell_type": "code",
   "execution_count": null,
   "metadata": {},
   "outputs": [
    {
     "name": "stdout",
     "output_type": "stream",
     "text": [
      "5\n",
      "1    48\n",
      "2     5\n",
      "3    35\n",
      "dtype: int64\n"
     ]
    }
   ],
   "source": [
    "#indexing: para acceder a un unico valor\n",
    "print(numeros_aleatorios[2])\n",
    "\n",
    "#slicing: para acceder a un rango de elementos\n",
    "print(numeros_aleatorios[1:4])\n"
   ]
  },
  {
   "cell_type": "markdown",
   "metadata": {},
   "source": [
    "Probemos ahora con el ejemplo del diccionario:"
   ]
  },
  {
   "cell_type": "code",
   "execution_count": 44,
   "metadata": {},
   "outputs": [
    {
     "name": "stdout",
     "output_type": "stream",
     "text": [
      "Matemáticas          18\n",
      "Ciencias Sociales    14\n",
      "dtype: int64\n",
      "= = = = = = = = = = = = = =\n",
      "15\n"
     ]
    }
   ],
   "source": [
    "mis_Datos = cursos[[\"Matemáticas\", \"Ciencias Sociales\"]]\n",
    "#usando slicing puedo almacenarlo en otra variable y obtener los datos que necesite de un rango determinado\n",
    "print(mis_Datos)\n",
    "\n",
    "print(\"= = = = = = = = = = = = = =\")\n",
    "#Usndo indexing puedo obtener un solo valor y almacenarlo en una nueva variable\n",
    "sus_Datos = cursos[\"Biología\"]\n",
    "print(sus_Datos)\n"
   ]
  }
 ],
 "metadata": {
  "kernelspec": {
   "display_name": "Python 3",
   "language": "python",
   "name": "python3"
  },
  "language_info": {
   "codemirror_mode": {
    "name": "ipython",
    "version": 3
   },
   "file_extension": ".py",
   "mimetype": "text/x-python",
   "name": "python",
   "nbconvert_exporter": "python",
   "pygments_lexer": "ipython3",
   "version": "3.12.6"
  }
 },
 "nbformat": 4,
 "nbformat_minor": 2
}
